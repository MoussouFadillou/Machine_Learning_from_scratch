{
  "nbformat": 4,
  "nbformat_minor": 0,
  "metadata": {
    "kernelspec": {
      "display_name": "Python 3",
      "language": "python",
      "name": "python3"
    },
    "language_info": {
      "codemirror_mode": {
        "name": "ipython",
        "version": 3
      },
      "file_extension": ".py",
      "mimetype": "text/x-python",
      "name": "python",
      "nbconvert_exporter": "python",
      "pygments_lexer": "ipython3",
      "version": "3.8.5"
    },
    "colab": {
      "name": "Moussou_LR_Scratch.ipynb",
      "provenance": []
    }
  },
  "cells": [
    {
      "cell_type": "markdown",
      "metadata": {
        "id": "PcweIxw05mOU"
      },
      "source": [
        "Linear Regression Exercise (Closed Form Solution)"
      ]
    },
    {
      "cell_type": "markdown",
      "metadata": {
        "id": "AhSPtDA_5mOa"
      },
      "source": [
        "In statistics, linear regression is a linear approach to modelling the relationship between a scalar response and one or more explanatory variables (also known as dependent and independent variables) [Wikipedia]. The closed form solution to finding the parameter $\\theta$ of a linear regression model is given by $$\\theta = (X^TX)^{-1}X^TY$$ where X are your features and Y is your target."
      ]
    },
    {
      "cell_type": "markdown",
      "metadata": {
        "id": "6JiyueR15mOb"
      },
      "source": [
        "PART A"
      ]
    },
    {
      "cell_type": "markdown",
      "metadata": {
        "id": "RgKS9dY75mOb"
      },
      "source": [
        "You will be implementing this model on a dataset of your choice using <b>numpy</b>.\n",
        "\n",
        "Steps\n",
        "\n",
        "1. Get any interesting dataset online. You can use this dataset repo [mcu dataset](https://archive.ics.uci.edu/ml/datasets.php). We will try to predict one of the features with continuous values. Set the continuous variable as your target column and other columns as your features i.e divide your dataset into $X$ and $y$.\n",
        "Hint: download the dataset and use pandas to load the data into your environment. You should be familiar with this already.\n",
        "2. We will bypass the step of exploring your data and assume that your data $(X, y)$ is linearly separable.\n",
        "3. Create a class called LinearReg: \n",
        "    - the \\_\\_init\\_\\_ constructor will take hyperparameters for the model class. **Ignore this for this exercise as you do not currently have any hyperparameters**\n",
        "    - the class will have two major methods **\"fit\"** and **\"predict\"**.\n",
        "    - the fit method takes as input $X$ and $y$, and calculates $\\theta$ using the formula above. Make sure you save $\\theta$ in as a **class variable** after calculation.\n",
        "    -  the predict function takes in $X$ and returns predictions as $\\hat{y}$. Use the same data $X$ for prediction. Do not worry of overfitting the model at this point.\n",
        "        $$\\hat{Y}=X\\theta$$\n",
        "4. Next create a static method in your class, called **\"rmse\"** that takes in the original target **y** and your predictions **\\hat{y}**, and uses them to calculate the mean square error in prediction (MSE). MSE is computed as;\n",
        "$$MSE = \\sum{(y - \\hat{y})^2} $$\n",
        "The MSE helps us to know how well we were able to model the data. Lower MSE is always better.\n",
        "5. Run your linear regression model"
      ]
    },
    {
      "cell_type": "markdown",
      "metadata": {
        "id": "dcWAJpJ85mOc"
      },
      "source": [
        "To run your model\n",
        "1. Instantiate the model class, model = LinearReg()\n",
        "2. Run model.fit() with $(X, y)$ as arguments\n",
        "3. Run $\\hat{y}$ = model.predict() with $X$ as argument\n",
        "4. Compare the predictions to the target with model.rmse(y, $\\hat{y})$ . What is the rmse value?"
      ]
    },
    {
      "cell_type": "markdown",
      "metadata": {
        "id": "8QGXTqc925Kl"
      },
      "source": [
        ""
      ]
    },
    {
      "cell_type": "code",
      "metadata": {
        "id": "LDzlmzUQnpDC"
      },
      "source": [
        "import pandas as pd\n",
        "import numpy as np\n"
      ],
      "execution_count": null,
      "outputs": []
    },
    {
      "cell_type": "code",
      "metadata": {
        "colab": {
          "base_uri": "https://localhost:8080/"
        },
        "id": "eUy2tyrTpR5k",
        "outputId": "7f4899e6-f88c-47a7-cc52-84dbcc327f3c"
      },
      "source": [
        "!pwd"
      ],
      "execution_count": null,
      "outputs": [
        {
          "output_type": "stream",
          "text": [
            "/content\n"
          ],
          "name": "stdout"
        }
      ]
    },
    {
      "cell_type": "code",
      "metadata": {
        "colab": {
          "base_uri": "https://localhost:8080/"
        },
        "id": "8RumlKi9HTv1",
        "outputId": "68243986-8a5a-4dfb-deec-ff18b2b4b0a0"
      },
      "source": [
        " !wget -P data https://raw.githubusercontent.com/satishgunjal/datasets/master/multivariate_housing_prices_in_portlans_oregon.csv\n"
      ],
      "execution_count": null,
      "outputs": [
        {
          "output_type": "stream",
          "text": [
            "--2021-02-15 12:46:59--  https://raw.githubusercontent.com/satishgunjal/datasets/master/multivariate_housing_prices_in_portlans_oregon.csv\n",
            "Resolving raw.githubusercontent.com (raw.githubusercontent.com)... 185.199.110.133, 185.199.109.133, 185.199.111.133, ...\n",
            "Connecting to raw.githubusercontent.com (raw.githubusercontent.com)|185.199.110.133|:443... connected.\n",
            "HTTP request sent, awaiting response... 200 OK\n",
            "Length: 705 [text/plain]\n",
            "Saving to: ‘data/multivariate_housing_prices_in_portlans_oregon.csv’\n",
            "\n",
            "multivariate_housin 100%[===================>]     705  --.-KB/s    in 0s      \n",
            "\n",
            "2021-02-15 12:46:59 (39.7 MB/s) - ‘data/multivariate_housing_prices_in_portlans_oregon.csv’ saved [705/705]\n",
            "\n"
          ],
          "name": "stdout"
        }
      ]
    },
    {
      "cell_type": "code",
      "metadata": {
        "id": "J46GRvKlpgxX"
      },
      "source": [
        "path = '/data'"
      ],
      "execution_count": null,
      "outputs": []
    },
    {
      "cell_type": "code",
      "metadata": {
        "colab": {
          "base_uri": "https://localhost:8080/"
        },
        "id": "Gcfesg-N58Ha",
        "outputId": "7bd26849-5ea8-4cd0-b2dc-f703eab3ec3f"
      },
      "source": [
        "Mydata=pd.read_csv(\"data/multivariate_housing_prices_in_portlans_oregon.csv\",sep=',')\n",
        "Mydata.shape\n"
      ],
      "execution_count": null,
      "outputs": [
        {
          "output_type": "execute_result",
          "data": {
            "text/plain": [
              "(47, 3)"
            ]
          },
          "metadata": {
            "tags": []
          },
          "execution_count": 12
        }
      ]
    },
    {
      "cell_type": "code",
      "metadata": {
        "id": "Ud87XtX9DgFp",
        "colab": {
          "base_uri": "https://localhost:8080/",
          "height": 204
        },
        "outputId": "2df6b793-f0ee-462b-c695-22d73c18ef5b"
      },
      "source": [
        "Mydata.head(5)"
      ],
      "execution_count": null,
      "outputs": [
        {
          "output_type": "execute_result",
          "data": {
            "text/html": [
              "<div>\n",
              "<style scoped>\n",
              "    .dataframe tbody tr th:only-of-type {\n",
              "        vertical-align: middle;\n",
              "    }\n",
              "\n",
              "    .dataframe tbody tr th {\n",
              "        vertical-align: top;\n",
              "    }\n",
              "\n",
              "    .dataframe thead th {\n",
              "        text-align: right;\n",
              "    }\n",
              "</style>\n",
              "<table border=\"1\" class=\"dataframe\">\n",
              "  <thead>\n",
              "    <tr style=\"text-align: right;\">\n",
              "      <th></th>\n",
              "      <th>size(in square feet)</th>\n",
              "      <th>number of bedrooms</th>\n",
              "      <th>price</th>\n",
              "    </tr>\n",
              "  </thead>\n",
              "  <tbody>\n",
              "    <tr>\n",
              "      <th>0</th>\n",
              "      <td>2104</td>\n",
              "      <td>3</td>\n",
              "      <td>399900</td>\n",
              "    </tr>\n",
              "    <tr>\n",
              "      <th>1</th>\n",
              "      <td>1600</td>\n",
              "      <td>3</td>\n",
              "      <td>329900</td>\n",
              "    </tr>\n",
              "    <tr>\n",
              "      <th>2</th>\n",
              "      <td>2400</td>\n",
              "      <td>3</td>\n",
              "      <td>369000</td>\n",
              "    </tr>\n",
              "    <tr>\n",
              "      <th>3</th>\n",
              "      <td>1416</td>\n",
              "      <td>2</td>\n",
              "      <td>232000</td>\n",
              "    </tr>\n",
              "    <tr>\n",
              "      <th>4</th>\n",
              "      <td>3000</td>\n",
              "      <td>4</td>\n",
              "      <td>539900</td>\n",
              "    </tr>\n",
              "  </tbody>\n",
              "</table>\n",
              "</div>"
            ],
            "text/plain": [
              "   size(in square feet)   number of bedrooms   price\n",
              "0                  2104                    3  399900\n",
              "1                  1600                    3  329900\n",
              "2                  2400                    3  369000\n",
              "3                  1416                    2  232000\n",
              "4                  3000                    4  539900"
            ]
          },
          "metadata": {
            "tags": []
          },
          "execution_count": 13
        }
      ]
    },
    {
      "cell_type": "code",
      "metadata": {
        "id": "tFHhCSE0Dgky"
      },
      "source": [
        "class LinearReg():\n",
        "  def __init__(self, theta=None):\n",
        "        self.theta = theta\n",
        "        \n",
        "  def fit (self,X,y):\n",
        "    self.theta = np.linalg.inv(X.T.dot(X)).dot(X.T).dot(y)\n",
        "    return self.theta\n",
        "        \n",
        "  def predict(self, X):\n",
        "    y_hat=np.dot(X, self.theta)\n",
        "    return y_hat\n",
        "  \n",
        "  def rmse(self,y,predict):\n",
        "    mse = np.mean((predict - y)**2)\n",
        "    return mse\n",
        "    \n",
        "  def __repr__(self):\n",
        "    return \"My first part is done. Thank you\""
      ],
      "execution_count": null,
      "outputs": []
    },
    {
      "cell_type": "code",
      "metadata": {
        "id": "zIY8WDBW4Nm_"
      },
      "source": [
        "X = Mydata.values[:, 0:2]\n",
        "y = Mydata.values[:, 2].reshape(len(Mydata.values[:, 2]), 1)"
      ],
      "execution_count": null,
      "outputs": []
    },
    {
      "cell_type": "code",
      "metadata": {
        "colab": {
          "base_uri": "https://localhost:8080/"
        },
        "id": "B6JN1Vno4Ol0",
        "outputId": "6f57274b-3c53-4647-ce0b-16c835274540"
      },
      "source": [
        "y.shape"
      ],
      "execution_count": null,
      "outputs": [
        {
          "output_type": "execute_result",
          "data": {
            "text/plain": [
              "(47, 1)"
            ]
          },
          "metadata": {
            "tags": []
          },
          "execution_count": 132
        }
      ]
    },
    {
      "cell_type": "code",
      "metadata": {
        "id": "BHGAXZe8DnnL"
      },
      "source": [
        "model =LinearReg()"
      ],
      "execution_count": null,
      "outputs": []
    },
    {
      "cell_type": "code",
      "metadata": {
        "id": "OL_XtWfx61pk",
        "colab": {
          "base_uri": "https://localhost:8080/"
        },
        "outputId": "aaace30e-c4cc-43eb-ba63-7e27a6a23be4"
      },
      "source": [
        "model.fit(X,y)"
      ],
      "execution_count": null,
      "outputs": [
        {
          "output_type": "execute_result",
          "data": {
            "text/plain": [
              "array([[  140.86108621],\n",
              "       [16978.19105903]])"
            ]
          },
          "metadata": {
            "tags": []
          },
          "execution_count": 134
        }
      ]
    },
    {
      "cell_type": "code",
      "metadata": {
        "colab": {
          "base_uri": "https://localhost:8080/"
        },
        "id": "2YFJ8W_odEcH",
        "outputId": "2b92946d-5fc7-403d-caaf-356527341c9b"
      },
      "source": [
        "predicted=model.predict(X)\n",
        "predicted.shape"
      ],
      "execution_count": null,
      "outputs": [
        {
          "output_type": "execute_result",
          "data": {
            "text/plain": [
              "(47, 1)"
            ]
          },
          "metadata": {
            "tags": []
          },
          "execution_count": 135
        }
      ]
    },
    {
      "cell_type": "code",
      "metadata": {
        "colab": {
          "base_uri": "https://localhost:8080/"
        },
        "id": "qm_WWqD-fHYD",
        "outputId": "c485d81d-12c0-4534-b939-64fa40b64426"
      },
      "source": [
        "model.rmse(y, predicted)"
      ],
      "execution_count": null,
      "outputs": [
        {
          "output_type": "execute_result",
          "data": {
            "text/plain": [
              "4513951420.499287"
            ]
          },
          "metadata": {
            "tags": []
          },
          "execution_count": 136
        }
      ]
    },
    {
      "cell_type": "code",
      "metadata": {
        "colab": {
          "base_uri": "https://localhost:8080/",
          "height": 35
        },
        "id": "PrGsSUIuEbHh",
        "outputId": "90c691e6-ed0a-45b2-c371-41aeb550d692"
      },
      "source": [
        "model.__repr__()"
      ],
      "execution_count": null,
      "outputs": [
        {
          "output_type": "execute_result",
          "data": {
            "application/vnd.google.colaboratory.intrinsic+json": {
              "type": "string"
            },
            "text/plain": [
              "'My first part is done. Thank you'"
            ]
          },
          "metadata": {
            "tags": []
          },
          "execution_count": 137
        }
      ]
    },
    {
      "cell_type": "markdown",
      "metadata": {
        "id": "xRA9aAvr5mOd"
      },
      "source": [
        "PART B"
      ]
    },
    {
      "cell_type": "markdown",
      "metadata": {
        "id": "yaUU78xJ5mOd"
      },
      "source": [
        "Well, we have some bugs in our code and this next section will help to fix that. Linear regression models usually have a zeroth parameter, $\\theta_0$ which helps to model the \"bias\" and gives an extra degree of freedom to the model. To fix this, we do the following.\n",
        "\n",
        "5. Create a function, called **\"add_ones\"** which takes in $X$ and returns an augmented version where 1s have been concatenated with X. This implies that a new column is added to $X$ which contain ones. Call this new augmented data, $X_{new}$. The function should return $X_{new}$. Note that $X_{new}$ has one column more than $X$.\n",
        "6. Edit your fit method **to add ones** to $X$ to make $X_{new}$ before computing $\\theta$ in your code.\n",
        "7. Now, calculate the $MSE$ for your predictions using this $X_{new}$. \n",
        "\n",
        "- Is it better than the previous MSE you got? Give any reason why it is better or not better."
      ]
    },
    {
      "cell_type": "markdown",
      "metadata": {
        "id": "oNWyY0hn5mOd"
      },
      "source": [
        ""
      ]
    },
    {
      "cell_type": "code",
      "metadata": {
        "colab": {
          "base_uri": "https://localhost:8080/"
        },
        "id": "XvDZ06Ch5smb",
        "outputId": "bfb47eb0-5cb8-4fce-9444-df8a61dbd4ab"
      },
      "source": [
        "def add_ones(X):\n",
        "    n=X.shape[0]\n",
        "    X_new=np.c_[np .ones(n )  , X]\n",
        "    return X_new\n",
        "  \n",
        "add_ones(np.array([[1,2,3],\n",
        "                   [4,5,6]]))"
      ],
      "execution_count": null,
      "outputs": [
        {
          "output_type": "execute_result",
          "data": {
            "text/plain": [
              "array([[1., 1., 2., 3.],\n",
              "       [1., 4., 5., 6.]])"
            ]
          },
          "metadata": {
            "tags": []
          },
          "execution_count": 138
        }
      ]
    },
    {
      "cell_type": "code",
      "metadata": {
        "id": "7HTHOAo_fIJT"
      },
      "source": [
        "class Lnmodel():\n",
        "  def __init__(self, theta=None,fit_intercept=True):\n",
        "        self.theta = theta\n",
        "        self.fit_intercept=fit_intercept\n",
        "\n",
        "  def fit (self,X,y):\n",
        "    if self.fit_intercept:\n",
        "       X_new = add_ones(X)\n",
        "    else:\n",
        "      X_new=X\n",
        "    self.theta = np.linalg.inv(X_new.T.dot(X_new)).dot(X_new.T).dot(y)\n",
        "    return self.theta\n",
        "        \n",
        "  def predict(self, X_new):\n",
        "    y_hat=np.dot(X_new, self.theta)\n",
        "    return y_hat\n",
        "  \n",
        "  def rmse(self, y, predict):\n",
        "    mse = np.mean((predict - y)**2)\n",
        "    return mse\n",
        " \n",
        "  def plot(self,reference_line=False):\n",
        "    pass\n",
        "\n",
        "  \n",
        "  def __repr__(self):\n",
        "    return \"My second part is done.Thank you\""
      ],
      "execution_count": null,
      "outputs": []
    },
    {
      "cell_type": "code",
      "metadata": {
        "id": "NERmgOfSwJL5"
      },
      "source": [
        "model = Lnmodel()\n",
        "X = Mydata.values[:, 0:2]\n",
        "y = Mydata.values[:, 2].reshape(len(y), 1)\n",
        "X_new = add_ones(X)\n"
      ],
      "execution_count": null,
      "outputs": []
    },
    {
      "cell_type": "code",
      "metadata": {
        "colab": {
          "base_uri": "https://localhost:8080/"
        },
        "id": "OImNSq9vh3Ng",
        "outputId": "6e313b09-2d7f-4eb3-a9a4-e1cb7a00d711"
      },
      "source": [
        "model.fit(X, y )\n",
        "#plotLnmodel( Lnmodel , X, y )\n"
      ],
      "execution_count": null,
      "outputs": [
        {
          "output_type": "execute_result",
          "data": {
            "text/plain": [
              "array([[89597.9095428 ],\n",
              "       [  139.21067402],\n",
              "       [-8738.01911233]])"
            ]
          },
          "metadata": {
            "tags": []
          },
          "execution_count": 149
        }
      ]
    },
    {
      "cell_type": "code",
      "metadata": {
        "colab": {
          "base_uri": "https://localhost:8080/"
        },
        "id": "p38vyqXGh6Sp",
        "outputId": "ff049060-83cb-44c2-e0bf-d1118d111f4c"
      },
      "source": [
        "predicted = model.predict(X_new)\n",
        "predicted.shape"
      ],
      "execution_count": null,
      "outputs": [
        {
          "output_type": "execute_result",
          "data": {
            "text/plain": [
              "(47, 1)"
            ]
          },
          "metadata": {
            "tags": []
          },
          "execution_count": 151
        }
      ]
    },
    {
      "cell_type": "code",
      "metadata": {
        "colab": {
          "base_uri": "https://localhost:8080/"
        },
        "id": "DdOuOnD66-vj",
        "outputId": "6628cee0-d4fc-4019-e66f-ca775bed734d"
      },
      "source": [
        "model.rmse(y, predicted)"
      ],
      "execution_count": null,
      "outputs": [
        {
          "output_type": "execute_result",
          "data": {
            "text/plain": [
              "4086560101.205656"
            ]
          },
          "metadata": {
            "tags": []
          },
          "execution_count": 152
        }
      ]
    },
    {
      "cell_type": "code",
      "metadata": {
        "colab": {
          "base_uri": "https://localhost:8080/"
        },
        "id": "8ZFMSU7l0kgN",
        "outputId": "cca0679e-0a05-4003-956c-4331fcda18e8"
      },
      "source": [
        "model.rmse(y,predicted)"
      ],
      "execution_count": null,
      "outputs": [
        {
          "output_type": "execute_result",
          "data": {
            "text/plain": [
              "4086560101.205656"
            ]
          },
          "metadata": {
            "tags": []
          },
          "execution_count": 153
        }
      ]
    },
    {
      "cell_type": "code",
      "metadata": {
        "colab": {
          "base_uri": "https://localhost:8080/",
          "height": 35
        },
        "id": "w5iTpluK1swP",
        "outputId": "1247d29d-135e-4801-83d8-5004e1e6b36a"
      },
      "source": [
        "model.__repr__()"
      ],
      "execution_count": null,
      "outputs": [
        {
          "output_type": "execute_result",
          "data": {
            "application/vnd.google.colaboratory.intrinsic+json": {
              "type": "string"
            },
            "text/plain": [
              "'My second part is done.Thank you'"
            ]
          },
          "metadata": {
            "tags": []
          },
          "execution_count": 154
        }
      ]
    },
    {
      "cell_type": "code",
      "metadata": {
        "id": "atTGJcRl2Odv"
      },
      "source": [
        ""
      ],
      "execution_count": null,
      "outputs": []
    }
  ]
}