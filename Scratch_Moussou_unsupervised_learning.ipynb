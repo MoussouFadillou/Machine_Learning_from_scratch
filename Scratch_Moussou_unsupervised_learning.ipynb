{
  "nbformat": 4,
  "nbformat_minor": 0,
  "metadata": {
    "kernelspec": {
      "display_name": "Python 3",
      "language": "python",
      "name": "python3"
    },
    "language_info": {
      "codemirror_mode": {
        "name": "ipython",
        "version": 3
      },
      "file_extension": ".py",
      "mimetype": "text/x-python",
      "name": "python",
      "nbconvert_exporter": "python",
      "pygments_lexer": "ipython3",
      "version": "3.8.5"
    },
    "colab": {
      "name": "Moussou_unsupervised_learning.ipynb",
      "provenance": []
    }
  },
  "cells": [
    {
      "cell_type": "code",
      "metadata": {
        "id": "wmMuSyygr_E7"
      },
      "source": [
        "import pandas as pd\n",
        "import numpy as np"
      ],
      "execution_count": null,
      "outputs": []
    },
    {
      "cell_type": "code",
      "metadata": {
        "id": "vb_aXfAir_E8"
      },
      "source": [
        "dataset=pd.read_csv('Data.csv')"
      ],
      "execution_count": null,
      "outputs": []
    },
    {
      "cell_type": "code",
      "metadata": {
        "colab": {
          "base_uri": "https://localhost:8080/",
          "height": 204
        },
        "id": "IVehPJcOr_E9",
        "outputId": "4bad335f-3294-4051-e602-e3208c0703f8"
      },
      "source": [
        "dataset.head()"
      ],
      "execution_count": null,
      "outputs": [
        {
          "output_type": "execute_result",
          "data": {
            "text/html": [
              "<div>\n",
              "<style scoped>\n",
              "    .dataframe tbody tr th:only-of-type {\n",
              "        vertical-align: middle;\n",
              "    }\n",
              "\n",
              "    .dataframe tbody tr th {\n",
              "        vertical-align: top;\n",
              "    }\n",
              "\n",
              "    .dataframe thead th {\n",
              "        text-align: right;\n",
              "    }\n",
              "</style>\n",
              "<table border=\"1\" class=\"dataframe\">\n",
              "  <thead>\n",
              "    <tr style=\"text-align: right;\">\n",
              "      <th></th>\n",
              "      <th>f1</th>\n",
              "      <th>f2</th>\n",
              "      <th>f3</th>\n",
              "      <th>f4</th>\n",
              "    </tr>\n",
              "  </thead>\n",
              "  <tbody>\n",
              "    <tr>\n",
              "      <th>0</th>\n",
              "      <td>5.1</td>\n",
              "      <td>3.5</td>\n",
              "      <td>1.4</td>\n",
              "      <td>0.2</td>\n",
              "    </tr>\n",
              "    <tr>\n",
              "      <th>1</th>\n",
              "      <td>4.9</td>\n",
              "      <td>3.0</td>\n",
              "      <td>1.4</td>\n",
              "      <td>0.2</td>\n",
              "    </tr>\n",
              "    <tr>\n",
              "      <th>2</th>\n",
              "      <td>4.7</td>\n",
              "      <td>3.2</td>\n",
              "      <td>1.3</td>\n",
              "      <td>0.2</td>\n",
              "    </tr>\n",
              "    <tr>\n",
              "      <th>3</th>\n",
              "      <td>4.6</td>\n",
              "      <td>3.1</td>\n",
              "      <td>1.5</td>\n",
              "      <td>0.2</td>\n",
              "    </tr>\n",
              "    <tr>\n",
              "      <th>4</th>\n",
              "      <td>5.0</td>\n",
              "      <td>3.6</td>\n",
              "      <td>1.4</td>\n",
              "      <td>0.2</td>\n",
              "    </tr>\n",
              "  </tbody>\n",
              "</table>\n",
              "</div>"
            ],
            "text/plain": [
              "    f1   f2   f3   f4\n",
              "0  5.1  3.5  1.4  0.2\n",
              "1  4.9  3.0  1.4  0.2\n",
              "2  4.7  3.2  1.3  0.2\n",
              "3  4.6  3.1  1.5  0.2\n",
              "4  5.0  3.6  1.4  0.2"
            ]
          },
          "metadata": {
            "tags": []
          },
          "execution_count": 4
        }
      ]
    },
    {
      "cell_type": "code",
      "metadata": {
        "colab": {
          "base_uri": "https://localhost:8080/"
        },
        "id": "a5zmjuKir_E9",
        "outputId": "a3e27b8a-f9c9-4285-bf48-055ba44db486"
      },
      "source": [
        "dataset.shape"
      ],
      "execution_count": null,
      "outputs": [
        {
          "output_type": "execute_result",
          "data": {
            "text/plain": [
              "(150, 4)"
            ]
          },
          "metadata": {
            "tags": []
          },
          "execution_count": 5
        }
      ]
    },
    {
      "cell_type": "code",
      "metadata": {
        "colab": {
          "base_uri": "https://localhost:8080/",
          "height": 297
        },
        "id": "-KYE0Aw8r_FA",
        "outputId": "d57b9aed-054f-4c9d-ca24-aa784b20d370"
      },
      "source": [
        "\n",
        "dataset.describe()"
      ],
      "execution_count": null,
      "outputs": [
        {
          "output_type": "execute_result",
          "data": {
            "text/html": [
              "<div>\n",
              "<style scoped>\n",
              "    .dataframe tbody tr th:only-of-type {\n",
              "        vertical-align: middle;\n",
              "    }\n",
              "\n",
              "    .dataframe tbody tr th {\n",
              "        vertical-align: top;\n",
              "    }\n",
              "\n",
              "    .dataframe thead th {\n",
              "        text-align: right;\n",
              "    }\n",
              "</style>\n",
              "<table border=\"1\" class=\"dataframe\">\n",
              "  <thead>\n",
              "    <tr style=\"text-align: right;\">\n",
              "      <th></th>\n",
              "      <th>f1</th>\n",
              "      <th>f2</th>\n",
              "      <th>f3</th>\n",
              "      <th>f4</th>\n",
              "    </tr>\n",
              "  </thead>\n",
              "  <tbody>\n",
              "    <tr>\n",
              "      <th>count</th>\n",
              "      <td>150.000000</td>\n",
              "      <td>150.000000</td>\n",
              "      <td>150.000000</td>\n",
              "      <td>150.000000</td>\n",
              "    </tr>\n",
              "    <tr>\n",
              "      <th>mean</th>\n",
              "      <td>5.843333</td>\n",
              "      <td>3.057333</td>\n",
              "      <td>3.758000</td>\n",
              "      <td>1.199333</td>\n",
              "    </tr>\n",
              "    <tr>\n",
              "      <th>std</th>\n",
              "      <td>0.828066</td>\n",
              "      <td>0.435866</td>\n",
              "      <td>1.765298</td>\n",
              "      <td>0.762238</td>\n",
              "    </tr>\n",
              "    <tr>\n",
              "      <th>min</th>\n",
              "      <td>4.300000</td>\n",
              "      <td>2.000000</td>\n",
              "      <td>1.000000</td>\n",
              "      <td>0.100000</td>\n",
              "    </tr>\n",
              "    <tr>\n",
              "      <th>25%</th>\n",
              "      <td>5.100000</td>\n",
              "      <td>2.800000</td>\n",
              "      <td>1.600000</td>\n",
              "      <td>0.300000</td>\n",
              "    </tr>\n",
              "    <tr>\n",
              "      <th>50%</th>\n",
              "      <td>5.800000</td>\n",
              "      <td>3.000000</td>\n",
              "      <td>4.350000</td>\n",
              "      <td>1.300000</td>\n",
              "    </tr>\n",
              "    <tr>\n",
              "      <th>75%</th>\n",
              "      <td>6.400000</td>\n",
              "      <td>3.300000</td>\n",
              "      <td>5.100000</td>\n",
              "      <td>1.800000</td>\n",
              "    </tr>\n",
              "    <tr>\n",
              "      <th>max</th>\n",
              "      <td>7.900000</td>\n",
              "      <td>4.400000</td>\n",
              "      <td>6.900000</td>\n",
              "      <td>2.500000</td>\n",
              "    </tr>\n",
              "  </tbody>\n",
              "</table>\n",
              "</div>"
            ],
            "text/plain": [
              "               f1          f2          f3          f4\n",
              "count  150.000000  150.000000  150.000000  150.000000\n",
              "mean     5.843333    3.057333    3.758000    1.199333\n",
              "std      0.828066    0.435866    1.765298    0.762238\n",
              "min      4.300000    2.000000    1.000000    0.100000\n",
              "25%      5.100000    2.800000    1.600000    0.300000\n",
              "50%      5.800000    3.000000    4.350000    1.300000\n",
              "75%      6.400000    3.300000    5.100000    1.800000\n",
              "max      7.900000    4.400000    6.900000    2.500000"
            ]
          },
          "metadata": {
            "tags": []
          },
          "execution_count": 6
        }
      ]
    },
    {
      "cell_type": "code",
      "metadata": {
        "colab": {
          "base_uri": "https://localhost:8080/",
          "height": 743
        },
        "id": "C6MRDTVFr_FA",
        "outputId": "93a2afcc-db0d-4332-acd5-ab1820d061c6"
      },
      "source": [
        "import seaborn as sb\n",
        "sb.pairplot(dataset)\n"
      ],
      "execution_count": null,
      "outputs": [
        {
          "output_type": "execute_result",
          "data": {
            "text/plain": [
              "<seaborn.axisgrid.PairGrid at 0x7f8976bb8350>"
            ]
          },
          "metadata": {
            "tags": []
          },
          "execution_count": 7
        },
        {
          "output_type": "display_data",
          "data": {
            "image/png": "[encoded data removed]",
            "text/plain": [
              "<Figure size 720x720 with 20 Axes>"
            ]
          },
          "metadata": {
            "tags": [],
            "needs_background": "light"
          }
        }
      ]
    },
    {
      "cell_type": "code",
      "metadata": {
        "id": "wpqAiuArr_FB"
      },
      "source": [
        "#PCA"
      ],
      "execution_count": null,
      "outputs": []
    },
    {
      "cell_type": "markdown",
      "metadata": {
        "id": "i2DbSMl5CBWz"
      },
      "source": [
        "#let us write the function for the pca"
      ]
    },
    {
      "cell_type": "code",
      "metadata": {
        "id": "PoYOGj_8r_FB"
      },
      "source": [
        "def PCA(X , num_components):\n",
        "    dataset_meaned = dataset - np.mean(dataset , axis = 0)\n",
        "    cov_mat = np.cov(dataset_meaned  , rowvar = False)\n",
        "    eigen_values , eigen_vectors = np.linalg.eigh(cov_mat)\n",
        "    sorted_index = np.argsort(eigen_values)[::-1]\n",
        "    sorted_eigenvalue = eigen_values[sorted_index]\n",
        "    sorted_eigenvectors = eigen_vectors[:,sorted_index]\n",
        "    eigenvector_subset = sorted_eigenvectors[:,0:num_components]\n",
        "    X_dataset = (eigenvector_subset.transpose().dot( dataset_meaned.transpose() )).transpose()\n",
        "    return X_dataset"
      ],
      "execution_count": null,
      "outputs": []
    },
    {
      "cell_type": "code",
      "metadata": {
        "id": "al7DQyuxr_FB"
      },
      "source": [
        ""
      ],
      "execution_count": null,
      "outputs": []
    },
    {
      "cell_type": "code",
      "metadata": {
        "id": "sCt6Sur-r_FB"
      },
      "source": [
        "X_dataset=PCA(dataset, 2)\n",
        "#X_dataset"
      ],
      "execution_count": null,
      "outputs": []
    },
    {
      "cell_type": "code",
      "metadata": {
        "id": "BeONf9hrCKLv"
      },
      "source": [
        ""
      ],
      "execution_count": null,
      "outputs": []
    },
    {
      "cell_type": "code",
      "metadata": {
        "id": "2_MjfKJhr_FC"
      },
      "source": [
        "new_data = pd.DataFrame( X_dataset, columns = ['PC1','PC2'])"
      ],
      "execution_count": null,
      "outputs": []
    },
    {
      "cell_type": "code",
      "metadata": {
        "colab": {
          "base_uri": "https://localhost:8080/",
          "height": 204
        },
        "id": "ULSoOyu2r_FC",
        "outputId": "47157659-a868-4f0a-d48d-bfbec078a9d8"
      },
      "source": [
        "new_data .head()"
      ],
      "execution_count": null,
      "outputs": [
        {
          "output_type": "execute_result",
          "data": {
            "text/html": [
              "<div>\n",
              "<style scoped>\n",
              "    .dataframe tbody tr th:only-of-type {\n",
              "        vertical-align: middle;\n",
              "    }\n",
              "\n",
              "    .dataframe tbody tr th {\n",
              "        vertical-align: top;\n",
              "    }\n",
              "\n",
              "    .dataframe thead th {\n",
              "        text-align: right;\n",
              "    }\n",
              "</style>\n",
              "<table border=\"1\" class=\"dataframe\">\n",
              "  <thead>\n",
              "    <tr style=\"text-align: right;\">\n",
              "      <th></th>\n",
              "      <th>PC1</th>\n",
              "      <th>PC2</th>\n",
              "    </tr>\n",
              "  </thead>\n",
              "  <tbody>\n",
              "    <tr>\n",
              "      <th>0</th>\n",
              "      <td>2.684126</td>\n",
              "      <td>0.319397</td>\n",
              "    </tr>\n",
              "    <tr>\n",
              "      <th>1</th>\n",
              "      <td>2.714142</td>\n",
              "      <td>-0.177001</td>\n",
              "    </tr>\n",
              "    <tr>\n",
              "      <th>2</th>\n",
              "      <td>2.888991</td>\n",
              "      <td>-0.144949</td>\n",
              "    </tr>\n",
              "    <tr>\n",
              "      <th>3</th>\n",
              "      <td>2.745343</td>\n",
              "      <td>-0.318299</td>\n",
              "    </tr>\n",
              "    <tr>\n",
              "      <th>4</th>\n",
              "      <td>2.728717</td>\n",
              "      <td>0.326755</td>\n",
              "    </tr>\n",
              "  </tbody>\n",
              "</table>\n",
              "</div>"
            ],
            "text/plain": [
              "        PC1       PC2\n",
              "0  2.684126  0.319397\n",
              "1  2.714142 -0.177001\n",
              "2  2.888991 -0.144949\n",
              "3  2.745343 -0.318299\n",
              "4  2.728717  0.326755"
            ]
          },
          "metadata": {
            "tags": []
          },
          "execution_count": 11
        }
      ]
    },
    {
      "cell_type": "code",
      "metadata": {
        "colab": {
          "base_uri": "https://localhost:8080/",
          "height": 286
        },
        "id": "NbWhg6iNr_FC",
        "outputId": "f3109d38-fff3-436a-e4d2-8b3f94d964b5"
      },
      "source": [
        "# Plot the results of the two first Principal Components\n",
        "import matplotlib.pyplot as plt\n",
        "plt.scatter(new_data ['PC1'], new_data ['PC2'])"
      ],
      "execution_count": null,
      "outputs": [
        {
          "output_type": "execute_result",
          "data": {
            "text/plain": [
              "<matplotlib.collections.PathCollection at 0x7f8967fac910>"
            ]
          },
          "metadata": {
            "tags": []
          },
          "execution_count": 14
        },
        {
          "output_type": "display_data",
          "data": {
            "image/png": "[encoded data removed]",
            "text/plain": [
              "<Figure size 432x288 with 1 Axes>"
            ]
          },
          "metadata": {
            "tags": [],
            "needs_background": "light"
          }
        }
      ]
    },
    {
      "cell_type": "code",
      "metadata": {
        "colab": {
          "base_uri": "https://localhost:8080/",
          "height": 268
        },
        "id": "Wut1bK2cr_FD",
        "outputId": "12b2ebdc-6b5f-409e-f411-1bd7130190a8"
      },
      "source": [
        "import numpy as np\n",
        "import matplotlib.pyplot as plt\n",
        "from matplotlib import style\n",
        "import pandas as pd \n",
        "style.use('ggplot')\n",
        "\n",
        "class K_Means:\n",
        "    def __init__(self, k =3, tol = 0.0001, max_iter = 400):\n",
        "        self.k = k\n",
        "        self.tol = tol\n",
        "        self.max_iter = max_iter\n",
        "\n",
        "    def fit(self, data):\n",
        "        self.centroids = {}\n",
        "\n",
        "#initialize the centroids, the first 'k' elements in the dataset will be our initial centroids\n",
        "        for i in range(self.k):\n",
        "            self.centroids[i] = data[i]\n",
        "\n",
        "#begin iterations\n",
        "        for i in range(self.max_iter):\n",
        "            self.classes = {}\n",
        "            for i in range(self.k):\n",
        "                self.classes[i] = []\n",
        "\n",
        "#find the distance between the point and cluster; choose the nearest centroid\n",
        "        for features in data:\n",
        "            distances = [np.linalg.norm(features - self.centroids[centroid]) for centroid in self.centroids]\n",
        "            clusters= distances.index(min(distances))\n",
        "            self.classes[clusters].append(features)\n",
        "\n",
        "            previous = dict(self.centroids)\n",
        "\n",
        "            #average the cluster datapoints to re-calculate the centroids\n",
        "        for classification in self.classes:\n",
        "            self.centroids[clusters] = np.average(self.classes[clusters], axis = 0)\n",
        "\n",
        "            isOptimal = True\n",
        "\n",
        "            for centroid in self.centroids:\n",
        "\n",
        "                original_centroid = previous[centroid]\n",
        "                curr = self.centroids[centroid]\n",
        "\n",
        "                if np.sum((curr - original_centroid)/original_centroid * 100.0) > self.tol:\n",
        "                    isOptimal = False\n",
        "\n",
        "#break out of the main loop if the results are optimal, ie. the centroids don't change their positions much(more than our tolerance)\n",
        "                if isOptimal:\n",
        "                    break\n",
        "\n",
        "    def pred(self, data):\n",
        "        distances = [np.linalg.norm(data - self.centroids[centroid]) for centroid in self.centroids]\n",
        "        clusters = distances.index(min(distances))\n",
        "        return classification\n",
        "    \n",
        "\n",
        "def main():\n",
        "\tdf = pd.read_csv(\"Data.csv\")\n",
        "\t#df = df[['one', 'two']]\n",
        "\t#ataset = df.astype(float).values.tolist()\n",
        "\n",
        "\tX = df.values #returns a numpy array\n",
        "\t\n",
        "\tmodel = K_Means(3)\n",
        "\tmodel.fit(X)\n",
        "\n",
        "\t# Plotting starts her\n",
        "\n",
        "\tcolors = [\"r\", \"g\", \"c\", \"b\", \"k\"]\n",
        "\n",
        "\tfor centroid in model.centroids:\n",
        "\t\tplt.scatter(model.centroids[centroid][0], model.centroids[centroid][1], s = 130, marker = \"s\")\n",
        "    \n",
        "\tfor clusters in model.classes:\n",
        "\t\tcolor = colors[clusters]\n",
        "\t\tfor features in model.classes[clusters]:\n",
        "\t\t\tplt.scatter(features[0], features[1], color = color,s = 30)\n",
        "\t\n",
        "\tplt.show()\n",
        " \n",
        "\n",
        "if __name__ == \"__main__\":\n",
        "\tmain()\n"
      ],
      "execution_count": null,
      "outputs": [
        {
          "output_type": "display_data",
          "data": {
            "image/png": "[encoded data removed]",
            "text/plain": [
              "<Figure size 432x288 with 1 Axes>"
            ]
          },
          "metadata": {
            "tags": []
          }
        }
      ]
    },
    {
      "cell_type": "code",
      "metadata": {
        "id": "64DoKIWTsGkI"
      },
      "source": [
        ""
      ],
      "execution_count": null,
      "outputs": []
    }
  ]
}